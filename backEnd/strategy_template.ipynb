{
 "cells": [
  {
   "cell_type": "code",
   "execution_count": 1,
   "metadata": {},
   "outputs": [],
   "source": [
    "'''\n",
    " ┌─────────────────────────────────────────────────────────────┐\n",
    " │┌───┬───┬───┬───┬───┬───┬───┬───┬───┬───┬───┬───┬───┬───┬───┐│\n",
    " ││Esc│!1 │@2 │#3 │$4 │%5 │^6 │&7 │*8 │(9 │)0 │_- │+= │|\\ │`~ ││\n",
    " │├───┴─┬─┴─┬─┴─┬─┴─┬─┴─┬─┴─┬─┴─┬─┴─┬─┴─┬─┴─┬─┴─┬─┴─┬─┴─┬─┴───┤│\n",
    " ││ Tab │ Q │ W │ E │ R │ T │ Y │ U │ I │ O │ P │{[ │}] │ BS  ││\n",
    " │├─────┴┬──┴┬──┴┬──┴┬──┴┬──┴┬──┴┬──┴┬──┴┬──┴┬──┴┬──┴┬──┴─────┤│\n",
    " ││ Ctrl │ A │ S │ D │ F │ G │ H │ J │ K │ L │: ;│\" '│ Enter  ││\n",
    " │├──────┴─┬─┴─┬─┴─┬─┴─┬─┴─┬─┴─┬─┴─┬─┴─┬─┴─┬─┴─┬─┴─┬─┴────┬───┤│\n",
    " ││ Shift  │ Z │ X │ C │ V │ B │ N │ M │< ,│> .│? /│Shift │Fn ││\n",
    " │└─────┬──┴┬──┴──┬┴───┴───┴───┴───┴───┴──┬┴───┴┬──┴┬─────┴───┘│\n",
    " │      │Fn │ Alt │         Space         │ Alt │Win│   HHKB   │\n",
    " │      └───┴─────┴───────────────────────┴─────┴───┘          │\n",
    " └─────────────────────────────────────────────────────────────┘\n",
    "\n",
    "Description  : \n",
    "Author       : 嘉恒\n",
    "LastEditors  : 嘉恒 jhincs@csu.edu.cn\n",
    "Date         : 2022-05-26 10:26:35\n",
    "LastEditTime : 2022-05-29 15:31:09\n",
    "FilePath     : \\quant\\strategy_template.ipynb\n",
    "'''\n",
    "# import easyquotation\n",
    "import easytrader \n",
    "# import warnings\n",
    "# warnings.simplefilter('ignore', category=UserWarning)\n",
    "# # from apscheduler.schedulers.blocking import BackgroundScheduler\n",
    "# import pandas as pd\n",
    "# from datetime import datetime\n",
    "# import time\n",
    "# import os\n",
    "# from jqdatasdk import *\n",
    "# auth('18974988801','Bigdata12345678')"
   ]
  },
  {
   "cell_type": "code",
   "execution_count": 2,
   "metadata": {},
   "outputs": [
    {
     "name": "stderr",
     "output_type": "stream",
     "text": [
      "c:\\Users\\lihan\\.conda\\envs\\bigdata\\lib\\site-packages\\pywinauto\\application.py:1064: UserWarning: 32-bit application should be automated using 32-bit Python (you use 64-bit Python)\n",
      "  UserWarning)\n"
     ]
    }
   ],
   "source": [
    "bigdata1 = easytrader.use('universal_client')#定义使用universal_client\n",
    "bigdata1.prepare(user='12345', comm_password='454547',exe_path=r'c:\\\\ths\\\\xiadan.exe')"
   ]
  },
  {
   "cell_type": "code",
   "execution_count": 2,
   "metadata": {},
   "outputs": [],
   "source": [
    "# def all_security_list():\n",
    "#     df2 = get_all_securities(['stock'])\n",
    "#     list1 = list(df2.index)\n",
    "#     # df1 = get_price(list1,None,time.strftime(\"%Y-%m-%d\", time.localtime()),'daily','close',True,'pre',count=1,panel=False,fill_paused=True)\n",
    "#     df1['name'] = df2.loc[list(df1['code'])].display_name.values\n",
    "#     return df1"
   ]
  },
  {
   "cell_type": "code",
   "execution_count": 3,
   "metadata": {},
   "outputs": [],
   "source": [
    "# def MADF(md1:int, md2:int):\n",
    "#     df2 = get_all_securities(['stock'])\n",
    "#     list1 = list(df2.index)\n",
    "#     df1 = get_price(list1,None,time.strftime(\"%Y-%m-%d\", time.localtime()),'daily','close',True,'pre',count=md2,panel=False,fill_paused=True)\n",
    "#     list2 = [df1.iloc[i + 1, 1] for i in range(0, df1.shape[0], 10) if df1.iloc[i : i + md1 - 1, 2].mean() > df1.iloc[i : i + md2 - 1, 2].mean()]\n",
    "#     df3 = get_price(list2,None,time.strftime(\"%Y-%m-%d\", time.localtime()),'daily','close',True,'pre',count=1,panel=False,fill_paused=True)\n",
    "#     df3['name'] = df2.loc[list(df3['code'])].display_name.values\n",
    "#     return df3"
   ]
  },
  {
   "cell_type": "code",
   "execution_count": 4,
   "metadata": {},
   "outputs": [],
   "source": [
    "'''\n",
    "description: 定义获取数据的地址，设定交易系统，并且打开交易系统界面。\n",
    "return {None}\n",
    "'''\n",
    "quotation = easyquotation.use('sina')#使用新浪获取数据\n",
    "bigdata1 = easytrader.use('universal_client')#定义使用universal_client"
   ]
  },
  {
   "cell_type": "code",
   "execution_count": 5,
   "metadata": {},
   "outputs": [
    {
     "name": "stderr",
     "output_type": "stream",
     "text": [
      "e:\\code\\teste\\apis\\lib\\site-packages\\pywinauto\\application.py:1064: UserWarning: 32-bit application should be automated using 32-bit Python (you use 64-bit Python)\n",
      "  UserWarning)\n"
     ]
    }
   ],
   "source": [
    "bigdata1.prepare(user='027000055542', comm_password='199707',exe_path=r'd:\\\\ths\\\\xiadan.exe')"
   ]
  },
  {
   "cell_type": "code",
   "execution_count": 6,
   "metadata": {},
   "outputs": [
    {
     "data": {
      "text/plain": [
       "[]"
      ]
     },
     "execution_count": 6,
     "metadata": {},
     "output_type": "execute_result"
    }
   ],
   "source": [
    "bigdata1.today_trades"
   ]
  },
  {
   "cell_type": "code",
   "execution_count": null,
   "metadata": {},
   "outputs": [],
   "source": [
    "bigdata1.buy()"
   ]
  },
  {
   "cell_type": "code",
   "execution_count": 3,
   "metadata": {},
   "outputs": [
    {
     "data": {
      "text/plain": [
       "{'资金余额': 6048.58, '可用金额': 6048.58, '可取金额': 6048.58, '总资产': 6048.58}"
      ]
     },
     "execution_count": 3,
     "metadata": {},
     "output_type": "execute_result"
    }
   ],
   "source": [
    "bigdata1.balance"
   ]
  },
  {
   "cell_type": "code",
   "execution_count": 4,
   "metadata": {},
   "outputs": [
    {
     "data": {
      "text/plain": [
       "[]"
      ]
     },
     "execution_count": 4,
     "metadata": {},
     "output_type": "execute_result"
    }
   ],
   "source": [
    "bigdata1.position"
   ]
  },
  {
   "cell_type": "code",
   "execution_count": 6,
   "metadata": {},
   "outputs": [],
   "source": [
    "try:\n",
    "    bigdata1.prepare(user='027000055542', comm_password='199707',exe_path=r'd:\\\\ths\\\\xiadan.exe')\n",
    "except Exception:\n",
    "    bigdata1.prepare(user='027000055542', comm_password='199707',exe_path=r'd:\\\\ths\\\\xiadan.exe')"
   ]
  },
  {
   "cell_type": "code",
   "execution_count": 6,
   "metadata": {},
   "outputs": [],
   "source": [
    "'''\n",
    "description: 写入一些工具函数\n",
    "'''\n",
    "def get_security_num(security:str) -> str:\n",
    "    \"\"\" \n",
    "        因为聚宽的股票数据使用字段为600001.XSHE\n",
    "        与easyquotation的600001有区别因此使用函数进行转换\n",
    "        \n",
    "    Args:\n",
    "        security: 聚宽要求的stock代码字段\n",
    "\n",
    "    Returns:\n",
    "        str:easyquotation要求的股票字段\n",
    "    \"\"\"    \n",
    "    return \"\".join(list(filter(str.isdigit,security)))"
   ]
  },
  {
   "cell_type": "code",
   "execution_count": 7,
   "metadata": {},
   "outputs": [],
   "source": [
    "\n",
    "position = bigdata1.position"
   ]
  },
  {
   "cell_type": "code",
   "execution_count": 8,
   "metadata": {},
   "outputs": [
    {
     "data": {
      "text/plain": [
       "[]"
      ]
     },
     "execution_count": 8,
     "metadata": {},
     "output_type": "execute_result"
    }
   ],
   "source": [
    "position"
   ]
  },
  {
   "cell_type": "code",
   "execution_count": null,
   "metadata": {},
   "outputs": [],
   "source": [
    "template"
   ]
  },
  {
   "cell_type": "code",
   "execution_count": 9,
   "metadata": {},
   "outputs": [
    {
     "data": {
      "text/plain": [
       "{'资金余额': 5423.39, '可用金额': 5423.39, '可取金额': 5423.39, '总资产': 5423.39}"
      ]
     },
     "execution_count": 9,
     "metadata": {},
     "output_type": "execute_result"
    }
   ],
   "source": [
    "balance"
   ]
  },
  {
   "cell_type": "code",
   "execution_count": 6,
   "metadata": {},
   "outputs": [
    {
     "data": {
      "text/plain": [
       "{'entrust_no': '1'}"
      ]
     },
     "execution_count": 6,
     "metadata": {},
     "output_type": "execute_result"
    }
   ],
   "source": [
    "bigdata1.buy('000625',17.01,100)"
   ]
  },
  {
   "cell_type": "code",
   "execution_count": 12,
   "metadata": {},
   "outputs": [],
   "source": [
    "def MAlines(security:str,md1:int,md2:int) -> bool:\n",
    "    m1 = md1\n",
    "    m2 = md2\n",
    "    num1 = get_price(\n",
    "    normalize_code(security),\n",
    "    end_date=time.strftime(\"%Y-%m-%d\", time.localtime()),\n",
    "    count=md1,\n",
    "    frequency='daily',\n",
    "    fields=['close'],\n",
    "    panel=False,).mean()\n",
    "    num2 = get_price(\n",
    "    normalize_code(security),\n",
    "    end_date=time.strftime(\"%Y-%m-%d\", time.localtime()),\n",
    "    count=md2,\n",
    "    frequency='daily',\n",
    "    fields=['close'],\n",
    "    panel=False,).mean()\n",
    "    if (num1[0]>num2[0]):\n",
    "        print(\"可以购买\",security,get_security_info(normalize_code(security)),time.strftime(\"%Y-%m-%d %H:%M:%S\", time.localtime()))\n",
    "    if (num1[0]<num2[0]):\n",
    "        print(\"卖出\",security,get_security_info(normalize_code(security)).display_name,time.strftime(\"%Y-%m-%d %H:%M:%S\", time.localtime()))\n",
    "\n",
    "    "
   ]
  },
  {
   "cell_type": "code",
   "execution_count": 11,
   "metadata": {},
   "outputs": [
    {
     "ename": "NameError",
     "evalue": "name 'BackgroundScheduler' is not defined",
     "output_type": "error",
     "traceback": [
      "\u001b[1;31m---------------------------------------------------------------------------\u001b[0m",
      "\u001b[1;31mNameError\u001b[0m                                 Traceback (most recent call last)",
      "\u001b[1;32m<ipython-input-11-e74c4c52a800>\u001b[0m in \u001b[0;36m<module>\u001b[1;34m\u001b[0m\n\u001b[1;32m----> 1\u001b[1;33m \u001b[0mscheduler\u001b[0m \u001b[1;33m=\u001b[0m \u001b[0mBackgroundScheduler\u001b[0m\u001b[1;33m(\u001b[0m\u001b[1;33m)\u001b[0m\u001b[1;33m\u001b[0m\u001b[1;33m\u001b[0m\u001b[0m\n\u001b[0m\u001b[0;32m      2\u001b[0m \u001b[0mscheduler\u001b[0m\u001b[1;33m.\u001b[0m\u001b[0madd_job\u001b[0m\u001b[1;33m(\u001b[0m\u001b[0mMAlines\u001b[0m\u001b[1;33m,\u001b[0m\u001b[1;34m'interval'\u001b[0m\u001b[1;33m,\u001b[0m\u001b[0mkwargs\u001b[0m\u001b[1;33m=\u001b[0m\u001b[1;33m{\u001b[0m\u001b[1;34m\"security\"\u001b[0m\u001b[1;33m:\u001b[0m\u001b[1;34m'002251'\u001b[0m\u001b[1;33m,\u001b[0m\u001b[1;34m\"md1\"\u001b[0m\u001b[1;33m:\u001b[0m\u001b[1;36m5\u001b[0m\u001b[1;33m,\u001b[0m\u001b[1;34m\"md2\"\u001b[0m\u001b[1;33m:\u001b[0m\u001b[1;36m10\u001b[0m\u001b[1;33m}\u001b[0m\u001b[1;33m,\u001b[0m \u001b[0mseconds\u001b[0m \u001b[1;33m=\u001b[0m \u001b[1;36m10\u001b[0m\u001b[1;33m)\u001b[0m\u001b[1;33m\u001b[0m\u001b[1;33m\u001b[0m\u001b[0m\n\u001b[0;32m      3\u001b[0m \u001b[0mprint\u001b[0m\u001b[1;33m(\u001b[0m\u001b[1;34m'Press Ctrl+{0} to exit'\u001b[0m\u001b[1;33m.\u001b[0m\u001b[0mformat\u001b[0m\u001b[1;33m(\u001b[0m\u001b[1;34m'Break'\u001b[0m \u001b[1;32mif\u001b[0m \u001b[0mos\u001b[0m\u001b[1;33m.\u001b[0m\u001b[0mname\u001b[0m \u001b[1;33m==\u001b[0m \u001b[1;34m'nt'\u001b[0m \u001b[1;32melse\u001b[0m \u001b[1;34m'C'\u001b[0m\u001b[1;33m)\u001b[0m\u001b[1;33m)\u001b[0m\u001b[1;33m\u001b[0m\u001b[1;33m\u001b[0m\u001b[0m\n\u001b[0;32m      4\u001b[0m \u001b[1;32mtry\u001b[0m\u001b[1;33m:\u001b[0m\u001b[1;33m\u001b[0m\u001b[1;33m\u001b[0m\u001b[0m\n\u001b[0;32m      5\u001b[0m     \u001b[0mscheduler\u001b[0m\u001b[1;33m.\u001b[0m\u001b[0mstart\u001b[0m\u001b[1;33m(\u001b[0m\u001b[1;33m)\u001b[0m\u001b[1;33m\u001b[0m\u001b[1;33m\u001b[0m\u001b[0m\n",
      "\u001b[1;31mNameError\u001b[0m: name 'BackgroundScheduler' is not defined"
     ]
    }
   ],
   "source": [
    "scheduler = BackgroundScheduler()\n",
    "scheduler.add_job(MAlines,'interval',kwargs={\"security\":'002251',\"md1\":5,\"md2\":10}, seconds = 10)\n",
    "print('Press Ctrl+{0} to exit'.format('Break' if os.name == 'nt' else 'C'))\n",
    "try:\n",
    "    scheduler.start()\n",
    "except (KeyboardInterrupt, SystemExit):\n",
    "    scheduler.shutdown()"
   ]
  },
  {
   "cell_type": "markdown",
   "metadata": {},
   "source": []
  },
  {
   "cell_type": "code",
   "execution_count": 13,
   "metadata": {},
   "outputs": [
    {
     "name": "stdout",
     "output_type": "stream",
     "text": [
      "main 1s\n",
      "main 1s\n",
      "main 1s\n",
      "job 3s\n",
      "main 1s\n",
      "main 1s\n",
      "main 1s\n",
      "job 3s\n",
      "main 1s\n",
      "main 1s\n",
      "main 1s\n",
      "job 3s\n",
      "main 1s\n",
      "main 1s\n",
      "main 1s\n",
      "job 3s\n"
     ]
    },
    {
     "ename": "KeyboardInterrupt",
     "evalue": "",
     "output_type": "error",
     "traceback": [
      "\u001b[1;31m---------------------------------------------------------------------------\u001b[0m",
      "\u001b[1;31mKeyboardInterrupt\u001b[0m                         Traceback (most recent call last)",
      "\u001b[1;32m<ipython-input-13-7c2bfd4a353e>\u001b[0m in \u001b[0;36m<module>\u001b[1;34m\u001b[0m\n\u001b[0;32m     14\u001b[0m     \u001b[1;32mwhile\u001b[0m\u001b[1;33m(\u001b[0m\u001b[1;32mTrue\u001b[0m\u001b[1;33m)\u001b[0m\u001b[1;33m:\u001b[0m\u001b[1;33m\u001b[0m\u001b[1;33m\u001b[0m\u001b[0m\n\u001b[0;32m     15\u001b[0m         \u001b[0mprint\u001b[0m\u001b[1;33m(\u001b[0m\u001b[1;34m'main 1s'\u001b[0m\u001b[1;33m)\u001b[0m\u001b[1;33m\u001b[0m\u001b[1;33m\u001b[0m\u001b[0m\n\u001b[1;32m---> 16\u001b[1;33m         \u001b[0mtime\u001b[0m\u001b[1;33m.\u001b[0m\u001b[0msleep\u001b[0m\u001b[1;33m(\u001b[0m\u001b[1;36m1\u001b[0m\u001b[1;33m)\u001b[0m\u001b[1;33m\u001b[0m\u001b[1;33m\u001b[0m\u001b[0m\n\u001b[0m",
      "\u001b[1;31mKeyboardInterrupt\u001b[0m: "
     ]
    },
    {
     "name": "stdout",
     "output_type": "stream",
     "text": [
      "job 3s\n",
      "job 3s\n",
      "job 3s\n",
      "job 3s\n",
      "job 3s\n",
      "job 3s\n",
      "job 3s\n",
      "job 3s\n",
      "job 3s\n",
      "job 3s\n",
      "job 3s\n",
      "job 3s\n",
      "job 3s\n",
      "job 3s\n",
      "job 3s\n",
      "job 3s\n",
      "job 3s\n",
      "job 3s\n",
      "job 3s\n",
      "job 3s\n",
      "job 3s\n",
      "job 3s\n",
      "job 3s\n",
      "job 3s\n",
      "job 3s\n",
      "job 3s\n",
      "job 3s\n",
      "job 3s\n",
      "job 3s\n",
      "job 3s\n",
      "job 3s\n",
      "job 3s\n",
      "job 3s\n",
      "job 3s\n",
      "job 3s\n",
      "job 3s\n",
      "job 3s\n",
      "job 3s\n",
      "job 3s\n",
      "job 3s\n",
      "job 3s\n",
      "job 3s\n",
      "job 3s\n",
      "job 3s\n",
      "job 3s\n",
      "job 3s\n",
      "job 3s\n",
      "job 3s\n",
      "job 3s\n",
      "job 3s\n",
      "job 3s\n",
      "job 3s\n",
      "job 3s\n",
      "job 3s\n",
      "job 3s\n",
      "job 3s\n",
      "job 3s\n",
      "job 3s\n",
      "job 3s\n",
      "job 3s\n",
      "job 3s\n",
      "job 3s\n",
      "job 3s\n",
      "job 3s\n",
      "job 3s\n",
      "job 3s\n",
      "job 3s\n",
      "job 3s\n",
      "job 3s\n",
      "job 3s\n",
      "job 3s\n",
      "job 3s\n",
      "job 3s\n",
      "job 3s\n",
      "job 3s\n",
      "job 3s\n",
      "job 3s\n",
      "job 3s\n",
      "job 3s\n",
      "job 3s\n",
      "job 3s\n",
      "job 3s\n",
      "job 3s\n",
      "job 3s\n",
      "job 3s\n",
      "job 3s\n",
      "job 3s\n",
      "job 3s\n",
      "job 3s\n",
      "job 3s\n",
      "job 3s\n",
      "job 3s\n",
      "job 3s\n",
      "job 3s\n",
      "job 3s\n",
      "job 3s\n",
      "job 3s\n",
      "job 3s\n",
      "job 3s\n",
      "job 3s\n"
     ]
    }
   ],
   "source": [
    "from apscheduler.schedulers.background import BackgroundScheduler\n",
    "import time\n",
    "\n",
    "def job():\n",
    "    print('job 3s')\n",
    "\n",
    "\n",
    "if __name__=='__main__':\n",
    "\n",
    "    sched = BackgroundScheduler(timezone='MST')\n",
    "    sched.add_job(job, 'interval', id='3_second_job', seconds=3)\n",
    "    sched.start()\n",
    "\n",
    "    while(True):\n",
    "        print('main 1s')\n",
    "        time.sleep(1)\n"
   ]
  },
  {
   "cell_type": "code",
   "execution_count": 18,
   "metadata": {},
   "outputs": [
    {
     "data": {
      "text/plain": [
       "'步步高'"
      ]
     },
     "execution_count": 18,
     "metadata": {},
     "output_type": "execute_result"
    }
   ],
   "source": [
    "get_security_info(normalize_code('002251')).display_name"
   ]
  },
  {
   "cell_type": "code",
   "execution_count": 9,
   "metadata": {},
   "outputs": [
    {
     "data": {
      "text/plain": [
       "'2022-05-30 21:34:14'"
      ]
     },
     "execution_count": 9,
     "metadata": {},
     "output_type": "execute_result"
    }
   ],
   "source": [
    "time.strftime(\"%Y-%m-%d %H:%M:%S\", time.localtime())"
   ]
  },
  {
   "cell_type": "code",
   "execution_count": 11,
   "metadata": {},
   "outputs": [
    {
     "ename": "NameError",
     "evalue": "name 'security' is not defined",
     "output_type": "error",
     "traceback": [
      "\u001b[1;31m---------------------------------------------------------------------------\u001b[0m",
      "\u001b[1;31mNameError\u001b[0m                                 Traceback (most recent call last)",
      "\u001b[1;32m<ipython-input-11-2127c8b7ccf3>\u001b[0m in \u001b[0;36m<module>\u001b[1;34m\u001b[0m\n\u001b[1;32m----> 1\u001b[1;33m \u001b[0mprint\u001b[0m\u001b[1;33m(\u001b[0m\u001b[1;34m\"卖出\"\u001b[0m\u001b[1;33m,\u001b[0m\u001b[0msecurity\u001b[0m\u001b[1;33m,\u001b[0m\u001b[0mtime\u001b[0m\u001b[1;33m.\u001b[0m\u001b[0mstrftime\u001b[0m\u001b[1;33m(\u001b[0m\u001b[1;34m\"%Y-%m-%d %H:%M:%S\"\u001b[0m\u001b[1;33m,\u001b[0m \u001b[0mtime\u001b[0m\u001b[1;33m.\u001b[0m\u001b[0mlocaltime\u001b[0m\u001b[1;33m(\u001b[0m\u001b[1;33m)\u001b[0m\u001b[1;33m)\u001b[0m\u001b[1;33m)\u001b[0m\u001b[1;33m\u001b[0m\u001b[1;33m\u001b[0m\u001b[0m\n\u001b[0m",
      "\u001b[1;31mNameError\u001b[0m: name 'security' is not defined"
     ]
    }
   ],
   "source": [
    "print(\"卖出\",security,time.strftime(\"%Y-%m-%d %H:%M:%S\", time.localtime()))"
   ]
  },
  {
   "cell_type": "code",
   "execution_count": null,
   "metadata": {},
   "outputs": [],
   "source": []
  }
 ],
 "metadata": {
  "kernelspec": {
   "display_name": "Python 3 (ipykernel)",
   "language": "python",
   "name": "python3"
  },
  "language_info": {
   "codemirror_mode": {
    "name": "ipython",
    "version": 3
   },
   "file_extension": ".py",
   "mimetype": "text/x-python",
   "name": "python",
   "nbconvert_exporter": "python",
   "pygments_lexer": "ipython3",
   "version": "3.6.10"
  },
  "vscode": {
   "interpreter": {
    "hash": "dce2c9c108e5a4f6dca5efd799591f84a0054d78fb03843725bfe652c630a950"
   }
  }
 },
 "nbformat": 4,
 "nbformat_minor": 4
}
